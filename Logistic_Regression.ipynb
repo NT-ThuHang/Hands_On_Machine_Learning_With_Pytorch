{
  "nbformat": 4,
  "nbformat_minor": 0,
  "metadata": {
    "colab": {
      "provenance": []
    },
    "kernelspec": {
      "name": "python3",
      "display_name": "Python 3"
    },
    "language_info": {
      "name": "python"
    },
    "accelerator": "GPU"
  },
  "cells": [
    {
      "cell_type": "markdown",
      "source": [
        "Author: Nguyen Thi Thu Hang"
      ],
      "metadata": {
        "id": "al7bz-Bbqqzh"
      }
    },
    {
      "cell_type": "markdown",
      "source": [
        "#Logistic Regression with Pytorch\n",
        "\n",
        "In this code, I will hands on Machine Learning coding skill with Linear Regression. The dataset is used in this project is advertising.csv with 5 features [Sepal_Length,\tSepal_Width, Petal_Length, Petal_Width, Label]. Specifically, 4 features are Sepal_Length,\tSepal_Width, Petal_Length, Petal_Width and label is Label.\n",
        "\n"
      ],
      "metadata": {
        "id": "rNetlytkqhgL"
      }
    },
    {
      "cell_type": "code",
      "execution_count": 1,
      "metadata": {
        "id": "VtkbDpktxnfz",
        "colab": {
          "base_uri": "https://localhost:8080/"
        },
        "outputId": "c91d32e8-d013-4fa3-932f-db7fc11bb735"
      },
      "outputs": [
        {
          "output_type": "stream",
          "name": "stdout",
          "text": [
            "fatal: destination path 'Hands_On_Machine_Learning_With_Pytorch' already exists and is not an empty directory.\n",
            "/content/Hands_On_Machine_Learning_With_Pytorch\n"
          ]
        }
      ],
      "source": [
        "!git clone https://github.com/NT-ThuHang/Hands_On_Machine_Learning_With_Pytorch.git\n",
        "%cd /content/Hands_On_Machine_Learning_With_Pytorch"
      ]
    },
    {
      "cell_type": "markdown",
      "source": [
        "## Logistic Regression"
      ],
      "metadata": {
        "id": "BAdG3_U-sjSR"
      }
    },
    {
      "cell_type": "markdown",
      "source": [
        "###1) When Logistic Regression can be used?  \n",
        "---\n",
        "**Logistic regression** can be used in classification problems where the output or dependent variable is categorical or binary. However, in order to implement logistic regression correctly, the dataset must also satisfy the following properties:\n",
        "\n",
        "+ There should not be a high correlation between the independent variables. In other words, the predictor variables should be independent of each other.\n",
        "+ There should be a linear relationship between the $logit$ of the outcome and each predictor variable. The $logit$ function is given as $logit(p) = \\log(p/(1-p))$, where $p$ is the probability of the outcome.\n",
        "+ The sample size must be large. How large depends on the number of independent variables of the model.\n",
        "\n",
        "When all the requirements above are satisfied, logistic regression can be used."
      ],
      "metadata": {
        "id": "CgogG7NsxpFE"
      }
    },
    {
      "cell_type": "markdown",
      "source": [
        "### 2)  Why is Logistic Regression called Regression and not Classification? \n",
        "---\n",
        "Although the task we are targeting in logistic regression is a classification, logistic regression does not actually individually classify things for you: it just gives you probabilities (or log odds ratios in the logit form).\n",
        "\n",
        "The only way logistic regression can actually classify stuff is if you apply a rule to the probability output. For example, you may round probabilities greater than or equal to $50\\%$ to 1, and probabilities less than $50\\%$ to 0, and that’s your classification."
      ],
      "metadata": {
        "id": "VmaQ-KqeyGl2"
      }
    },
    {
      "cell_type": "markdown",
      "source": [
        "### 3)  What is a Decision Boundary?\n",
        "---\n",
        "A decision boundary is a line or a hyperplane that separates the classes. This is what we expect to obtain from logistic regression, as with any other classifier. With this, we can figure out some way to split the data to allow for an accurate prediction of a given observation’s class using the available information.\n",
        "\n",
        "In the case of a generic two-dimensional example, the split might look something like this:\n",
        "![image.png](data:image/png;base64,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)"
      ],
      "metadata": {
        "id": "4Eb-wgy3yYtZ"
      }
    },
    {
      "cell_type": "markdown",
      "source": [
        "##Library"
      ],
      "metadata": {
        "id": "oBxTCMsu2aaQ"
      }
    },
    {
      "cell_type": "code",
      "source": [
        "import os\n",
        "import numpy as np\n",
        "import pandas as pd\n",
        "import matplotlib.pyplot as plt\n",
        "\n",
        "#Dataset\n",
        "import torch\n",
        "from torch.utils.data import Dataset, DataLoader\n",
        "from sklearn.preprocessing import StandardScaler\n",
        "from sklearn.model_selection import train_test_split \n",
        "\n",
        "#Modeling\n",
        "from torch import nn\n",
        "from torch import optim\n",
        "from tqdm import tqdm\n",
        "\n",
        "#Evaluate\n",
        "from sklearn.metrics import classification_report\n",
        "\n",
        "device = \"cuda\" if torch.cuda.is_available() else \"cpu\"\n",
        "device"
      ],
      "metadata": {
        "colab": {
          "base_uri": "https://localhost:8080/",
          "height": 35
        },
        "id": "osM7rS0kyYZF",
        "outputId": "f6c91c4a-baf9-46e5-813b-954e1eb641f0"
      },
      "execution_count": 115,
      "outputs": [
        {
          "output_type": "execute_result",
          "data": {
            "text/plain": [
              "'cuda'"
            ],
            "application/vnd.google.colaboratory.intrinsic+json": {
              "type": "string"
            }
          },
          "metadata": {},
          "execution_count": 115
        }
      ]
    },
    {
      "cell_type": "markdown",
      "source": [
        "##Load Dataset"
      ],
      "metadata": {
        "id": "YAxYhABw4Mpd"
      }
    },
    {
      "cell_type": "code",
      "source": [
        "dataset = pd.read_csv(\"./Dataset/iris_full.csv\")\n",
        "dataset.info()"
      ],
      "metadata": {
        "colab": {
          "base_uri": "https://localhost:8080/"
        },
        "id": "-Y1A3JP64O0v",
        "outputId": "74eddd16-9e7f-4276-b590-7d93ab3370a1"
      },
      "execution_count": 3,
      "outputs": [
        {
          "output_type": "stream",
          "name": "stdout",
          "text": [
            "<class 'pandas.core.frame.DataFrame'>\n",
            "RangeIndex: 100 entries, 0 to 99\n",
            "Data columns (total 5 columns):\n",
            " #   Column         Non-Null Count  Dtype  \n",
            "---  ------         --------------  -----  \n",
            " 0   Sepal_Length   100 non-null    float64\n",
            " 1    Sepal_Width   100 non-null    float64\n",
            " 2    Petal_Length  100 non-null    float64\n",
            " 3    Petal_Width   100 non-null    float64\n",
            " 4    Label         100 non-null    float64\n",
            "dtypes: float64(5)\n",
            "memory usage: 4.0 KB\n"
          ]
        }
      ]
    },
    {
      "cell_type": "markdown",
      "source": [
        "##Prepare Data"
      ],
      "metadata": {
        "id": "DFGSWhTh4Ghd"
      }
    },
    {
      "cell_type": "markdown",
      "source": [
        "### Split data"
      ],
      "metadata": {
        "id": "rkMbb2gz6T-I"
      }
    },
    {
      "cell_type": "code",
      "source": [
        "X = dataset.iloc[:,:-1].values\n",
        "y = dataset.iloc[:,-1].values\n",
        "X_train, X_test, y_train, y_test = train_test_split(X, y, test_size = 0.2, random_state = 0)"
      ],
      "metadata": {
        "id": "RM9W1_rN4t7w"
      },
      "execution_count": 4,
      "outputs": []
    },
    {
      "cell_type": "markdown",
      "source": [
        "### Scale "
      ],
      "metadata": {
        "id": "aAyGFQx_6W8n"
      }
    },
    {
      "cell_type": "code",
      "source": [
        "scaler = StandardScaler()\n",
        "X_train_scl = torch.tensor(scaler.fit_transform(X_train), dtype = torch.float).to(device)\n",
        "X_test_scl = torch.tensor(scaler.fit_transform(X_test), dtype = torch.float).to(device)\n",
        "y_train = torch.tensor(y_train, dtype = torch.float).to(device)\n",
        "y_test = torch.tensor(y_test, dtype = torch.float)"
      ],
      "metadata": {
        "colab": {
          "base_uri": "https://localhost:8080/"
        },
        "id": "wLGHiXgKsi2G",
        "outputId": "88ab5d4c-9550-4868-df7b-a22d4b27ca9b"
      },
      "execution_count": 104,
      "outputs": [
        {
          "output_type": "stream",
          "name": "stderr",
          "text": [
            "/usr/local/lib/python3.7/dist-packages/ipykernel_launcher.py:4: UserWarning: To copy construct from a tensor, it is recommended to use sourceTensor.clone().detach() or sourceTensor.clone().detach().requires_grad_(True), rather than torch.tensor(sourceTensor).\n",
            "  after removing the cwd from sys.path.\n",
            "/usr/local/lib/python3.7/dist-packages/ipykernel_launcher.py:5: UserWarning: To copy construct from a tensor, it is recommended to use sourceTensor.clone().detach() or sourceTensor.clone().detach().requires_grad_(True), rather than torch.tensor(sourceTensor).\n",
            "  \"\"\"\n"
          ]
        }
      ]
    },
    {
      "cell_type": "markdown",
      "source": [
        "### DataLoader"
      ],
      "metadata": {
        "id": "GsmJ_jB36PcJ"
      }
    },
    {
      "cell_type": "code",
      "source": [
        "class IrisDataset(Dataset):\n",
        "  def __init__(self, X, y):\n",
        "    self.X = X\n",
        "    self.y = y\n",
        "  \n",
        "  def __len__(self):\n",
        "    return self.X.size()[0]\n",
        "\n",
        "  def __getitem__(self, idx):\n",
        "    return [self.X[idx], self.y[idx]]"
      ],
      "metadata": {
        "id": "32HdluPw6dXM"
      },
      "execution_count": 105,
      "outputs": []
    },
    {
      "cell_type": "code",
      "source": [
        "batch_size = 4\n",
        "train_loader = DataLoader(IrisDataset(X_train_scl, y_train), batch_size=batch_size, shuffle=True)"
      ],
      "metadata": {
        "id": "F6Irp2SI5RrW"
      },
      "execution_count": 106,
      "outputs": []
    },
    {
      "cell_type": "markdown",
      "source": [
        "##Modeling"
      ],
      "metadata": {
        "id": "XUWqa1D3IR01"
      }
    },
    {
      "cell_type": "code",
      "source": [
        "class LogisticRegression(nn.Module):\n",
        "  def __init__(self, inputDim, outputDim):\n",
        "    super(LogisticRegression, self).__init__()\n",
        "    self.linear = nn.Linear(inputDim, outputDim)\n",
        "\n",
        "  def forward(self, X):\n",
        "    outputs = torch.sigmoid(self.linear(X))\n",
        "    return outputs\n",
        "\n"
      ],
      "metadata": {
        "id": "wZDMHVSfGx-4"
      },
      "execution_count": 107,
      "outputs": []
    },
    {
      "cell_type": "code",
      "source": [
        "class Config_Hyperparameters(object):\n",
        "  def __init__(self):\n",
        "    self.inputDim = dataset.shape[1]-1\n",
        "    self.outputDim = 1\n",
        "\n",
        "    self.lr = 1e-3\n",
        "    self.epochs = 100"
      ],
      "metadata": {
        "id": "U8WvqhD3JHZX"
      },
      "execution_count": 108,
      "outputs": []
    },
    {
      "cell_type": "code",
      "source": [
        "cfg = Config_Hyperparameters() \n",
        "\n",
        "model = LogisticRegression(cfg.inputDim, cfg.outputDim).to(device)\n",
        "loss_func = nn.BCELoss()\n",
        "optimizer = optim.SGD(model.parameters(), lr = cfg.lr)"
      ],
      "metadata": {
        "id": "bdFTYpicJgFX"
      },
      "execution_count": 109,
      "outputs": []
    },
    {
      "cell_type": "markdown",
      "source": [
        "##Training Phase"
      ],
      "metadata": {
        "id": "w6WZdvDwKTlI"
      }
    },
    {
      "cell_type": "code",
      "source": [
        "losses = []\n",
        "accuracy = []\n",
        "num_samples = X_train.shape[0]\n",
        "\n",
        "for epoch in tqdm(range(int(cfg.epochs)),desc='Training Epochs'):\n",
        "  correct = 0\n",
        "  epoch_loss = 0\n",
        "  # inner loop\n",
        "  for i, (data, label) in enumerate(train_loader):\n",
        "    #init grad to 0\n",
        "    optimizer.zero_grad()\n",
        "\n",
        "    #get samples\n",
        "    data = data.to(device)\n",
        "    labels = label.to(device)\n",
        "\n",
        "    #forward \n",
        "    pro_pred = model(data)\n",
        "    #compute loss\n",
        "    loss = loss_func(torch.squeeze(pro_pred), labels)\n",
        "    #backward()\n",
        "    loss.backward()\n",
        "    optimizer.step()\n",
        "    epoch_loss += loss.item()\n",
        "    \n",
        "    with torch.no_grad():\n",
        "      label_predicted = torch.squeeze(pro_pred).round().cpu().detach().numpy()\n",
        "      correct += np.sum(label_predicted == labels.cpu().detach().numpy())\n",
        "\n",
        "  losses.append(epoch_loss/num_samples)\n",
        "  accuracy.append(correct/num_samples)\n",
        "\n",
        "  if (epoch%5==0 or epoch==cfg.epochs-1):\n",
        "    print(\"\\nEpoch {}, Loss: {}, Accuracy: {}\".format(epoch, epoch_loss/num_samples, correct/num_samples))\n",
        "\n",
        "  \n",
        "\n"
      ],
      "metadata": {
        "colab": {
          "base_uri": "https://localhost:8080/"
        },
        "id": "Sjs-LMQlKCdQ",
        "outputId": "554970dd-661e-469d-8e1c-48b0aee9b985"
      },
      "execution_count": 110,
      "outputs": [
        {
          "output_type": "stream",
          "name": "stderr",
          "text": [
            "Training Epochs:  12%|█▏        | 12/100 [00:00<00:01, 55.51it/s]"
          ]
        },
        {
          "output_type": "stream",
          "name": "stdout",
          "text": [
            "\n",
            "Epoch 0, Loss: 0.2391381122171879, Accuracy: 0.2375\n",
            "\n",
            "Epoch 5, Loss: 0.21390308812260628, Accuracy: 0.2875\n",
            "\n",
            "Epoch 10, Loss: 0.19196052327752114, Accuracy: 0.425\n"
          ]
        },
        {
          "output_type": "stream",
          "name": "stderr",
          "text": [
            "Training Epochs:  24%|██▍       | 24/100 [00:00<00:01, 52.29it/s]"
          ]
        },
        {
          "output_type": "stream",
          "name": "stdout",
          "text": [
            "\n",
            "Epoch 15, Loss: 0.17295607402920724, Accuracy: 0.4875\n",
            "\n",
            "Epoch 20, Loss: 0.15651874728500842, Accuracy: 0.5875\n",
            "\n",
            "Epoch 25, Loss: 0.14229652434587478, Accuracy: 0.7625\n"
          ]
        },
        {
          "output_type": "stream",
          "name": "stderr",
          "text": [
            "Training Epochs:  36%|███▌      | 36/100 [00:00<00:01, 52.27it/s]"
          ]
        },
        {
          "output_type": "stream",
          "name": "stdout",
          "text": [
            "\n",
            "Epoch 30, Loss: 0.12997455671429634, Accuracy: 0.8375\n",
            "\n",
            "Epoch 35, Loss: 0.11926445551216602, Accuracy: 0.9625\n",
            "\n",
            "Epoch 40, Loss: 0.10992231331765652, Accuracy: 0.9875\n"
          ]
        },
        {
          "output_type": "stream",
          "name": "stderr",
          "text": [
            "Training Epochs:  54%|█████▍    | 54/100 [00:01<00:00, 53.05it/s]"
          ]
        },
        {
          "output_type": "stream",
          "name": "stdout",
          "text": [
            "\n",
            "Epoch 45, Loss: 0.10174611620604992, Accuracy: 0.9875\n",
            "\n",
            "Epoch 50, Loss: 0.09455181993544101, Accuracy: 0.9875\n",
            "\n",
            "Epoch 55, Loss: 0.08820574693381786, Accuracy: 0.9875\n"
          ]
        },
        {
          "output_type": "stream",
          "name": "stderr",
          "text": [
            "Training Epochs:  72%|███████▏  | 72/100 [00:01<00:00, 54.52it/s]"
          ]
        },
        {
          "output_type": "stream",
          "name": "stdout",
          "text": [
            "\n",
            "Epoch 60, Loss: 0.08256882317364216, Accuracy: 0.9875\n",
            "\n",
            "Epoch 65, Loss: 0.07754554748535156, Accuracy: 1.0\n",
            "\n",
            "Epoch 70, Loss: 0.07304828353226185, Accuracy: 1.0\n"
          ]
        },
        {
          "output_type": "stream",
          "name": "stderr",
          "text": [
            "Training Epochs:  84%|████████▍ | 84/100 [00:01<00:00, 54.25it/s]"
          ]
        },
        {
          "output_type": "stream",
          "name": "stdout",
          "text": [
            "\n",
            "Epoch 75, Loss: 0.06901033204048872, Accuracy: 1.0\n",
            "\n",
            "Epoch 80, Loss: 0.06536436844617129, Accuracy: 1.0\n",
            "\n",
            "Epoch 85, Loss: 0.06206495855003595, Accuracy: 1.0\n"
          ]
        },
        {
          "output_type": "stream",
          "name": "stderr",
          "text": [
            "Training Epochs: 100%|██████████| 100/100 [00:01<00:00, 53.49it/s]"
          ]
        },
        {
          "output_type": "stream",
          "name": "stdout",
          "text": [
            "\n",
            "Epoch 90, Loss: 0.05906387232244015, Accuracy: 1.0\n",
            "\n",
            "Epoch 95, Loss: 0.05632663499563932, Accuracy: 1.0\n",
            "\n",
            "Epoch 99, Loss: 0.054305430874228476, Accuracy: 1.0\n"
          ]
        },
        {
          "output_type": "stream",
          "name": "stderr",
          "text": [
            "\n"
          ]
        }
      ]
    },
    {
      "cell_type": "code",
      "source": [
        "plt.figure(num=None, figsize=(8, 6))\n",
        "plt.plot(losses)\n",
        "\n",
        "# Adding some bells and whistles to the plot\n",
        "plt.grid(True, which=\"both\")\n",
        "plt.xlabel('epoch', fontsize=14)\n",
        "plt.ylabel('average loss', fontsize=14)\n",
        "plt.show()"
      ],
      "metadata": {
        "colab": {
          "base_uri": "https://localhost:8080/",
          "height": 392
        },
        "id": "eQlzA5koLBoE",
        "outputId": "78e123ba-2436-49af-a6c7-fc530f118748"
      },
      "execution_count": 111,
      "outputs": [
        {
          "output_type": "display_data",
          "data": {
            "text/plain": [
              "<Figure size 576x432 with 1 Axes>"
            ],
            "image/png": "[encoded data removed]"
          },
          "metadata": {
            "needs_background": "light"
          }
        }
      ]
    },
    {
      "cell_type": "code",
      "source": [
        "plt.figure(num=None, figsize=(8, 6))\n",
        "plt.plot(accuracy[:20])\n",
        "\n",
        "# Adding some bells and whistles to the plot\n",
        "plt.grid(True, which=\"both\")\n",
        "plt.xlabel('epoch', fontsize=14)\n",
        "plt.ylabel('average acc', fontsize=14)\n",
        "plt.show()"
      ],
      "metadata": {
        "colab": {
          "base_uri": "https://localhost:8080/",
          "height": 392
        },
        "id": "Tc4XBnnKSiG6",
        "outputId": "788b26b3-66d9-4f70-bab8-b583fa11c8e3"
      },
      "execution_count": 112,
      "outputs": [
        {
          "output_type": "display_data",
          "data": {
            "text/plain": [
              "<Figure size 576x432 with 1 Axes>"
            ],
            "image/png": "[encoded data removed]"
          },
          "metadata": {
            "needs_background": "light"
          }
        }
      ]
    },
    {
      "cell_type": "markdown",
      "source": [
        "#Testing Phase"
      ],
      "metadata": {
        "id": "L-L4tvBuTJCS"
      }
    },
    {
      "cell_type": "code",
      "source": [
        "with torch.no_grad():\n",
        "  predict = torch.squeeze(model(X_test_scl)).round().cpu().detach().numpy()\n",
        "  print(classification_report(predict, y_test.cpu().detach().numpy()))\n",
        "\n"
      ],
      "metadata": {
        "colab": {
          "base_uri": "https://localhost:8080/"
        },
        "id": "nHaz3AAWTCZs",
        "outputId": "b18866cd-527b-4f77-cd0c-1ad72e6a8a3a"
      },
      "execution_count": 118,
      "outputs": [
        {
          "output_type": "stream",
          "name": "stdout",
          "text": [
            "              precision    recall  f1-score   support\n",
            "\n",
            "         0.0       1.00      1.00      1.00        10\n",
            "         1.0       1.00      1.00      1.00        10\n",
            "\n",
            "    accuracy                           1.00        20\n",
            "   macro avg       1.00      1.00      1.00        20\n",
            "weighted avg       1.00      1.00      1.00        20\n",
            "\n"
          ]
        }
      ]
    },
    {
      "cell_type": "code",
      "source": [],
      "metadata": {
        "id": "D07KA5jFTVGk"
      },
      "execution_count": null,
      "outputs": []
    }
  ]
}